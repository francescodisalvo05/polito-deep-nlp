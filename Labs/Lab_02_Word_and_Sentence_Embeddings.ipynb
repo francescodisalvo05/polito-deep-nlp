{
  "nbformat": 4,
  "nbformat_minor": 0,
  "metadata": {
    "accelerator": "GPU",
    "colab": {
      "name": "Practice 2 - Word and Sentence Embeddings.ipynb",
      "provenance": [],
      "collapsed_sections": [
        "w-9kQCr4P8wP",
        "Mij5WNAARGMl"
      ],
      "include_colab_link": true
    },
    "kernelspec": {
      "display_name": "Python 3",
      "name": "python3"
    },
    "language_info": {
      "name": "python"
    }
  },
  "cells": [
    {
      "cell_type": "markdown",
      "metadata": {
        "id": "view-in-github",
        "colab_type": "text"
      },
      "source": [
        "<a href=\"https://colab.research.google.com/github/francescodisalvo05/polito-deep-nlp/blob/main/Labs/Lab_02_Word_and_Sentence_Embeddings.ipynb\" target=\"_parent\"><img src=\"https://colab.research.google.com/assets/colab-badge.svg\" alt=\"Open In Colab\"/></a>"
      ]
    },
    {
      "cell_type": "markdown",
      "metadata": {
        "id": "dbYDu6cchK-l"
      },
      "source": [
        "#**Deep Natural Language Processing @ PoliTO**\n",
        "\n",
        "---\n",
        "\n",
        "\n",
        "**Teaching Assistant:** Moreno La Quatra\n",
        "\n",
        "**Practice 2:** Word and Sentence Embeddings"
      ]
    },
    {
      "cell_type": "markdown",
      "metadata": {
        "id": "zbJsg8XEOudF"
      },
      "source": [
        "## Word Embedding \n",
        "\n",
        "![](https://qph.fs.quoracdn.net/main-qimg-3e812fd164a08f5e4f195000fecf988f)\n",
        "\n",
        "\n",
        "**Key takeaways** from lessons and in-class practices:\n",
        "- Word embeddings are able to map words into a semantic-aware vector space\n",
        "- There are multiple architectures for the generation of word embeddings\n",
        "- Each architecture has its advantages and disadvantages\n",
        "- Word embedding evaluation could be intrinsic (intermediate tasks) or extrinsic (downstream task)\n",
        "- It is possible to use pre-trained word embedding models or use large amount of text to train it from scratch\n"
      ]
    },
    {
      "cell_type": "markdown",
      "metadata": {
        "id": "w-9kQCr4P8wP"
      },
      "source": [
        "### **Question 1**\n",
        "\n",
        "Train a new Word2Vec model using gensim with the text8 corpus available in the python package ([reference](https://radimrehurek.com/gensim/downloader.html)). Compute the training time for the model and store it for subsequent steps."
      ]
    },
    {
      "cell_type": "code",
      "metadata": {
        "id": "UW_G_mRAOt9e"
      },
      "source": [
        "! pip install --upgrade gensim"
      ],
      "execution_count": null,
      "outputs": []
    },
    {
      "cell_type": "code",
      "metadata": {
        "id": "RHK2BAd7SIDk"
      },
      "source": [
        "!wget http://mattmahoney.net/dc/text8.zip\n",
        "!unzip text8.zip text8"
      ],
      "execution_count": null,
      "outputs": []
    },
    {
      "cell_type": "code",
      "metadata": {
        "colab": {
          "base_uri": "https://localhost:8080/"
        },
        "id": "od6-XXHkkkxV",
        "outputId": "d0e04a3d-5fbf-42a5-9099-aba865c5cfb1"
      },
      "source": [
        "import gensim.downloader as api\n",
        "from gensim.models import Word2Vec\n",
        "\n",
        "dataset = api.load(\"text8\") "
      ],
      "execution_count": null,
      "outputs": [
        {
          "name": "stdout",
          "output_type": "stream",
          "text": [
            "[==================================================] 100.0% 31.6/31.6MB downloaded\n"
          ]
        }
      ]
    },
    {
      "cell_type": "code",
      "metadata": {
        "colab": {
          "base_uri": "https://localhost:8080/"
        },
        "id": "hdO5jgNpKuwz",
        "outputId": "2ba2297e-76dc-4be7-e204-6ddf79afd6a6"
      },
      "source": [
        "%%time\n",
        "model = Word2Vec(dataset) # default values\n",
        "model.save(\"word2vec.model\")"
      ],
      "execution_count": null,
      "outputs": [
        {
          "name": "stdout",
          "output_type": "stream",
          "text": [
            "CPU times: user 4min 18s, sys: 2.34 s, total: 4min 20s\n",
            "Wall time: 2min 21s\n"
          ]
        }
      ]
    },
    {
      "cell_type": "markdown",
      "metadata": {
        "id": "Mij5WNAARGMl"
      },
      "source": [
        "### **Question 2**:\n",
        "Perform intrinsic evaluation of the model for the task of word analogy by exploiting the data collection available [here](https://raw.githubusercontent.com/MorenoLaQuatra/DeepNLP/main/practices/P2/google_analogies.csv). \n",
        "\n",
        "1. read CSV file\n",
        "2. group analogy entries by type (column: `type`)\n",
        "3. for each type entry (**in the lab, just set type=\"family\"** to reduce the required time) use the first 3 word vectors to compute the fourth\n",
        "    - Entry: `Athens,Greece,Baghdad,Iraq`\n",
        "    - `v(Greece) - v(Athens) + v(Baghdad) = res_v` \n",
        "    - Get the most similar vectors to `res_v`\n",
        "    - Compute in how many cases the correct word is among the top K (if `v[Iraq]` is among the K most similar words) with `K = 1, 3, 5, 10`\n",
        "\n",
        "$top(k) = \\dfrac{\\sum_{i=1}^{N} f(i)}{|E|}$\n",
        "\n",
        "where $f(i) = 1$ if the target word is among the top k and $f(i) = 0$ otherwise.\n",
        "\n",
        "$|E|$ is the total number of entries for the considered type.\n",
        "\n",
        "**Notes:**\n",
        "1. Try with the model trained on `text8`, is there any issue?\n",
        "2. Test the model trained on Google News available in gensim.\n",
        "\n"
      ]
    },
    {
      "cell_type": "code",
      "metadata": {
        "id": "dJaY8eWTgWkE"
      },
      "source": [
        "# Using Word2Vec trained on \"text8\" we obtain an \"out of vocabulary\" error\n",
        "# whereas the one trained on \"Google News\" was smooth but slower"
      ],
      "execution_count": null,
      "outputs": []
    },
    {
      "cell_type": "code",
      "metadata": {
        "id": "VArA054TTX5y"
      },
      "source": [
        "%%capture\n",
        "! wget https://raw.githubusercontent.com/MorenoLaQuatra/DeepNLP/main/practices/P2/google_analogies.csv"
      ],
      "execution_count": null,
      "outputs": []
    },
    {
      "cell_type": "code",
      "metadata": {
        "colab": {
          "base_uri": "https://localhost:8080/"
        },
        "id": "LDPl6w1ob3WX",
        "outputId": "5610b46d-83d5-4df6-c547-6bfa93252bb0"
      },
      "source": [
        "# Executing this cell could take ~5 minutes\n",
        "import gensim.downloader\n",
        "w2v_google_news_model = gensim.downloader.load('word2vec-google-news-300')"
      ],
      "execution_count": null,
      "outputs": [
        {
          "name": "stdout",
          "output_type": "stream",
          "text": [
            "[==================================================] 100.0% 1662.8/1662.8MB downloaded\n"
          ]
        }
      ]
    },
    {
      "cell_type": "code",
      "metadata": {
        "id": "6ykQt1UPkjfj"
      },
      "source": [
        "import pandas as pd\n",
        "\n",
        "# read CSV file\n",
        "data_analogies = pd.read_csv('google_analogies.csv').drop(columns=[\"Unnamed: 0\"])\n",
        "\n",
        "# filter only \"family\" type\n",
        "family_analogies = data_analogies[data_analogies[\"type\"] == \"family\"].copy()"
      ],
      "execution_count": null,
      "outputs": []
    },
    {
      "cell_type": "code",
      "metadata": {
        "id": "naqOerHCPryp"
      },
      "source": [
        "# get the embeddings for word1, word2 and word3 -> let us call v1,v2 and v3\n",
        "def getV4(row):\n",
        "  \n",
        "  # compute the algebraic operation -> v4 is a row vector\n",
        "  v4 = w2v_google_news_model[row[\"word2\"]] - w2v_google_news_model[row[\"word1\"]] + w2v_google_news_model[row[\"word3\"]]\n",
        "\n",
        "  # get the 10 most similar word to v4\n",
        "  top10 = w2v_google_news_model.most_similar(v4)[:10]\n",
        "\n",
        "  # return only the list of top10 values (without the scores)\n",
        "  return [ x[0] for x in top10 ]\n",
        "\n",
        "family_analogies[\"v4\"] = family_analogies.apply(getV4, axis=1)"
      ],
      "execution_count": null,
      "outputs": []
    },
    {
      "cell_type": "code",
      "metadata": {
        "id": "KeLIYyg-fC-T"
      },
      "source": [
        "family_analogies.head()"
      ],
      "execution_count": null,
      "outputs": []
    },
    {
      "cell_type": "code",
      "metadata": {
        "id": "CwabUdKwU2Di"
      },
      "source": [
        "# now count the number of correct results among the top k = [1,3,5,10] scores\n",
        "\n",
        "# I could use again the apply method and add 4 more columns with 1 if \n",
        "# it is in the top k and 0 otherwise, but it would too heavy\n",
        "# therefore I will go with iterrows\n",
        "\n",
        "import matplotlib.pyplot as plt\n",
        "import seaborn as sns\n",
        "\n",
        "sns.set_style('darkgrid')\n",
        "\n",
        "def evaluate_top_values(df):\n",
        "\n",
        "  top_1 = top_3 = top_5 = top_10 = 0\n",
        "\n",
        "  for index, row in df.iterrows():\n",
        "\n",
        "    target = row[\"target\"]\n",
        "    top10 = row[\"v4\"]\n",
        "\n",
        "    if target in top10:\n",
        "      top_10 += 1\n",
        "\n",
        "    if target in top10[:5]:\n",
        "      top_5 += 1\n",
        "\n",
        "    if target in top10[:3]:\n",
        "      top_3 += 1\n",
        "\n",
        "    if target == top10[0]:\n",
        "      top_1 += 1\n",
        "\n",
        "  acc_1 = top_1/len(df)\n",
        "  acc_3 = top_3/len(df)\n",
        "  acc_5 = top_5/len(df)\n",
        "  acc_10 = top_10/len(df)\n",
        "\n",
        "  plt.plot([1,3,5,10],[acc_1,acc_3,acc_5,acc_10])\n",
        "  plt.xlabel(\"Top K\")\n",
        "  plt.xticks([1,3,5,10])\n",
        "  plt.ylabel(\"Accuracy\")\n",
        "  "
      ],
      "execution_count": null,
      "outputs": []
    },
    {
      "cell_type": "code",
      "metadata": {
        "id": "G6apV1rsfwmU"
      },
      "source": [
        "evaluate_top_values(family_analogies)"
      ],
      "execution_count": null,
      "outputs": []
    },
    {
      "cell_type": "markdown",
      "metadata": {
        "id": "noRDD9hWmyZO"
      },
      "source": [
        "### **Question 3:**\n",
        "\n",
        "Train a new FastText model using gensim with text8 corpus available in the python package ([reference](https://radimrehurek.com/gensim/downloader.html)). Compute the training time for the model and store it for subsequent steps. \n",
        "\n",
        "- Is there any significant difference in training time if compared with Word2Vec training?"
      ]
    },
    {
      "cell_type": "code",
      "metadata": {
        "colab": {
          "base_uri": "https://localhost:8080/"
        },
        "id": "p03kX8kml37U",
        "outputId": "f488628e-77c0-45d4-ae7f-0b4f31891b8d"
      },
      "source": [
        "import gensim.downloader as api\n",
        "from gensim.models import FastText\n",
        "\n",
        "dataset_text8 = api.load(\"text8\") \n",
        "\n",
        "# since the Object 'Dataset' has no \"len\" attributes,\n",
        "# I will manually calculate it\n",
        "len_dataset = 0\n",
        "for _ in dataset_text8:\n",
        "  len_dataset += 1\n",
        "\n",
        "\n",
        "model_fasttext = FastText(window=3, min_count=1)\n",
        "model_fasttext.build_vocab(dataset_text8)\n",
        "model_fasttext.train(dataset_text8, total_examples=len_dataset, epochs=1)\n",
        "\n",
        "# it is much much slower and there are much more stored informations"
      ],
      "execution_count": null,
      "outputs": [
        {
          "data": {
            "text/plain": [
              "(12818778, 17005207)"
            ]
          },
          "execution_count": 16,
          "metadata": {},
          "output_type": "execute_result"
        }
      ]
    },
    {
      "cell_type": "markdown",
      "metadata": {
        "id": "UoAQbgL1oiEM"
      },
      "source": [
        "### **Question 4:**\n",
        "Score the FastText model by exploiting the same methodology presented in Q2. \n",
        "\n",
        "**Notes:**\n",
        "- Is there any issue similar to Word2Vec model?\n",
        "- Test the model trained on Wikipedia+News available in gensim."
      ]
    },
    {
      "cell_type": "code",
      "metadata": {
        "id": "eMngCK3xsmxN"
      },
      "source": [
        "%%capture\n",
        "! wget https://raw.githubusercontent.com/MorenoLaQuatra/DeepNLP/main/practices/P2/google_analogies.csv"
      ],
      "execution_count": null,
      "outputs": []
    },
    {
      "cell_type": "code",
      "metadata": {
        "id": "0JvL6Tizkn6j"
      },
      "source": [
        "import pandas as pd\n",
        "import gensim.downloader\n",
        "\n",
        "fasttext_wiki_news_model = gensim.downloader.load('fasttext-wiki-news-subwords-300')\n",
        "\n",
        "# read CSV file\n",
        "data_analogies = pd.read_csv('google_analogies.csv').drop(columns=[\"Unnamed: 0\"])\n",
        "\n",
        "# filter only \"family\" type\n",
        "family_analogies = data_analogies[data_analogies[\"type\"] == \"family\"].copy()"
      ],
      "execution_count": null,
      "outputs": []
    },
    {
      "cell_type": "code",
      "metadata": {
        "id": "zjdoLXHHsw4Z"
      },
      "source": [
        "def getV4_fasttext(row):\n",
        "  \n",
        "  # compute the algebraic operation -> v4 is a row vector\n",
        "  v4 = fasttext_wiki_news_model[row[\"word2\"]] - fasttext_wiki_news_model[row[\"word1\"]] + fasttext_wiki_news_model[row[\"word3\"]]\n",
        "\n",
        "  # get the 10 most similar word to v4\n",
        "  top10 = fasttext_wiki_news_model.most_similar(positive=[v4], topn=10)\n",
        "\n",
        "  # return only the list of top10 values (without the scores)\n",
        "  return [ x[0] for x in top10 ]\n",
        "\n",
        "family_analogies[\"v4\"] = family_analogies.apply(getV4_fasttext, axis=1)"
      ],
      "execution_count": null,
      "outputs": []
    },
    {
      "cell_type": "code",
      "metadata": {
        "colab": {
          "base_uri": "https://localhost:8080/",
          "height": 279
        },
        "id": "ll4PIKax2Ggm",
        "outputId": "9852af4b-570b-498b-9446-3bd59d35e796"
      },
      "source": [
        "evaluate_top_values(family_analogies)"
      ],
      "execution_count": null,
      "outputs": [
        {
          "data": {
            "image/png": "[encoded data removed]",
            "text/plain": [
              "<Figure size 432x288 with 1 Axes>"
            ]
          },
          "metadata": {},
          "output_type": "display_data"
        }
      ]
    },
    {
      "cell_type": "markdown",
      "metadata": {
        "id": "WRneIhkoxV_O"
      },
      "source": [
        "### **Question 5** (optional) \n",
        "Evaluate Word2Vec and FastText models  on the analogy task for the whole dataset (include all analogy types)."
      ]
    },
    {
      "cell_type": "code",
      "metadata": {
        "id": "64CHB3Umkq_1"
      },
      "source": [
        "# Your code here"
      ],
      "execution_count": null,
      "outputs": []
    },
    {
      "cell_type": "markdown",
      "metadata": {
        "id": "k-AuxU7YhU7D"
      },
      "source": [
        "## Sentence Embeddings\n",
        "\n",
        "Key takeaways from lessons and in-class practices:\n",
        "- Doc2Vec is an extension of the Word2Vec framework\n",
        "- It incorporate Document ID to obtain a more accurate representation of a document/paragraph\n",
        "- Training document vectors are pre-computed, however you can infer vectors for new documents\n",
        "- InferSent exploit a deep learning architecture to supervisedly learn sentence representations\n",
        "- InferSent vectors could exploit both Word2Vec or FastText as word embedding models."
      ]
    },
    {
      "cell_type": "markdown",
      "metadata": {
        "id": "60_q4G-xyooQ"
      },
      "source": [
        "### **Question 6:**\n",
        "\n",
        "Train a Doc2Vec model using gensim with text8 corpus. Compute the training time for the model and store it for subsequent steps."
      ]
    },
    {
      "cell_type": "code",
      "metadata": {
        "id": "9eIj2s1skr-s"
      },
      "source": [
        "from gensim.models.doc2vec import Doc2Vec, TaggedDocument\n",
        "from nltk.tokenize import word_tokenize\n",
        "from sklearn.metrics.pairwise import cosine_similarity\n",
        "import gensim.downloader as api\n",
        "\n",
        "\n",
        "dataset_text8 = api.load(\"text8\") \n",
        "\n",
        "tagged_text8 = [TaggedDocument(words=tokens, tags=[str(idx)]) for idx, tokens in enumerate(dataset_text8)]"
      ],
      "execution_count": null,
      "outputs": []
    },
    {
      "cell_type": "code",
      "metadata": {
        "id": "1UhtOgUeJzs3"
      },
      "source": [
        "max_epochs = 10\n",
        "emb_size = 200\n",
        "alpha = 0.01\n",
        "\n",
        "model = Doc2Vec(documents=tagged_text8, \n",
        "                vector_size=emb_size, \n",
        "                alpha=alpha,\n",
        "                min_alpha=0.0001,\n",
        "                min_count=1,\n",
        "                dm=1,\n",
        "                epochs=max_epochs)"
      ],
      "execution_count": null,
      "outputs": []
    },
    {
      "cell_type": "code",
      "metadata": {
        "id": "-lcDIbXdLB73"
      },
      "source": [
        "model.save(\"d2v.model\")"
      ],
      "execution_count": null,
      "outputs": []
    },
    {
      "cell_type": "markdown",
      "metadata": {
        "id": "gCqY7VFOwsK9"
      },
      "source": [
        "### **Question 7 (qualitative Evaluation)**\n",
        "Perform some qualitative experiments by computing the cosine similarities between sentences composed by yourself."
      ]
    },
    {
      "cell_type": "code",
      "metadata": {
        "id": "KrYt1-LckvSI"
      },
      "source": [
        "vec_1 = model.infer_vector([\"I\",\"love\",\"studying\",\"data\", \"science\"])\n",
        "vec_2 = model.infer_vector([\"I\", \"do\",\"not\",\"like\", \"studying\", \"arts\"])\n",
        "\n",
        "print(cosine_similarity(vec_1.reshape(1,-1),vec_2.reshape(1,-1)))"
      ],
      "execution_count": null,
      "outputs": []
    },
    {
      "cell_type": "markdown",
      "metadata": {
        "id": "OBqLp1LnTeME"
      },
      "source": [
        "### **Question 8** (Extrinsic Evaluation)\n",
        "\n",
        "Extrinsic evaluation measure performance of the word/sentence/paragraph embedding model for a downstream NLP task (e.g., Text Classification).\n",
        "\n",
        "We can use different configuration, training corpora or even different models to build a complete architecture for the task at hand.\n",
        "\n",
        "For this practice we use the text classification dataset available [here](https://github.com/MorenoLaQuatra/DeepNLP/blob/main/practices/P2/news_headline_classification.csv) - [source: Kaggle](https://www.kaggle.com/rmisra/news-category-dataset)\n",
        "\n",
        "**Note:** consider using just the first 10.000 headlines to reduce runtime during the lab.\n",
        "\n",
        "Compute the accuracy of 3 classification models each one built with one of the models introduced in this practice:\n",
        "- Word2Vec model pretrained on Google News corpus\n",
        "- FastText model pretrained on Wikipedia+News corpus\n",
        "- **[Optional]** Doc2Vec model pretrained on Text8 corpus\n",
        "- **[Optional]** InferSent pretrained model (v2) - [reference](https://github.com/facebookresearch/InferSent)\n",
        "\n",
        "The procedure to create a classification system is sketched below:\n",
        "1. Choose a machine learning (multi-class) classifier (e.g., MLP)\n",
        "2. Split the data collection in train/test (80%/20%)\n",
        "3. Use text vectors obtained by pretrained model as input of the classifier\n",
        "4. Measure the accuracy of the classification system\n",
        "5. Repeat step 3-4 using different embedding models \n",
        "\n",
        "\n",
        "**Note:** You need to choose an aggregation function (e.g., average) to obtain sentence embeddings from word vectors.\n",
        "\n",
        "Which model has better performance? Report the performance of each variant of the classification system."
      ]
    },
    {
      "cell_type": "code",
      "metadata": {
        "colab": {
          "base_uri": "https://localhost:8080/"
        },
        "id": "qp2k7npVeoTB",
        "outputId": "d0b1eb1d-8fe7-41fa-b3ff-320c2e1b6148"
      },
      "source": [
        "!wget https://raw.githubusercontent.com/MorenoLaQuatra/DeepNLP/main/practices/P2/news_headline_classification.csv"
      ],
      "execution_count": 1,
      "outputs": [
        {
          "output_type": "stream",
          "name": "stdout",
          "text": [
            "--2021-10-25 07:39:54--  https://raw.githubusercontent.com/MorenoLaQuatra/DeepNLP/main/practices/P2/news_headline_classification.csv\n",
            "Resolving raw.githubusercontent.com (raw.githubusercontent.com)... 185.199.108.133, 185.199.109.133, 185.199.110.133, ...\n",
            "Connecting to raw.githubusercontent.com (raw.githubusercontent.com)|185.199.108.133|:443... connected.\n",
            "HTTP request sent, awaiting response... 200 OK\n",
            "Length: 15212143 (15M) [text/plain]\n",
            "Saving to: ‘news_headline_classification.csv’\n",
            "\n",
            "news_headline_class 100%[===================>]  14.51M  94.4MB/s    in 0.2s    \n",
            "\n",
            "2021-10-25 07:39:54 (94.4 MB/s) - ‘news_headline_classification.csv’ saved [15212143/15212143]\n",
            "\n"
          ]
        }
      ]
    },
    {
      "cell_type": "code",
      "metadata": {
        "colab": {
          "base_uri": "https://localhost:8080/"
        },
        "id": "uKQZIX6ckzcA",
        "outputId": "3d6ad64d-4943-45aa-8df3-6e92141854f2"
      },
      "source": [
        "from sklearn.neural_network import MLPClassifier\n",
        "from sklearn.metrics import accuracy_score\n",
        "from sklearn.model_selection import train_test_split\n",
        "\n",
        "import pandas as pd\n",
        "import numpy as np\n",
        "import gensim.downloader\n",
        "\n",
        "import nltk\n",
        "from nltk.tokenize import word_tokenize\n",
        "\n",
        "import re\n",
        "\n",
        "nltk.download('punkt')\n",
        "\n",
        "random_state = 42\n",
        "\n",
        "def classify(X,y):\n",
        "\n",
        "  X_train, X_test, y_train, y_test = train_test_split(X,y, stratify=y, test_size=0.2)\n",
        "\n",
        "  model = MLPClassifier(hidden_layer_sizes=(50), verbose=True) # see if overfits\n",
        "  model.out_activation_ = 'softmax' # softmax because we need a multi class classifier\n",
        "  \n",
        "  model.fit(X_train, y_train)\n",
        "\n",
        "  y_pred = model.predict(X_test)\n",
        "  \n",
        "  acc = accuracy_score(y_test, y_pred)\n",
        "\n",
        "  print(f\"Accuracy: {acc}\")\n",
        "\n",
        "\n",
        "df_headlines = pd.read_csv('news_headline_classification.csv').iloc[:10000].drop(columns=['Unnamed: 0'])"
      ],
      "execution_count": 17,
      "outputs": [
        {
          "output_type": "stream",
          "name": "stdout",
          "text": [
            "[nltk_data] Downloading package punkt to /root/nltk_data...\n",
            "[nltk_data]   Package punkt is already up-to-date!\n"
          ]
        }
      ]
    },
    {
      "cell_type": "code",
      "metadata": {
        "colab": {
          "base_uri": "https://localhost:8080/",
          "height": 204
        },
        "id": "t2PFR8Py7_uZ",
        "outputId": "c21b5127-bc5b-4a94-ca9b-6e7216ddae7e"
      },
      "source": [
        "df_headlines.head()"
      ],
      "execution_count": 18,
      "outputs": [
        {
          "output_type": "execute_result",
          "data": {
            "text/html": [
              "<div>\n",
              "<style scoped>\n",
              "    .dataframe tbody tr th:only-of-type {\n",
              "        vertical-align: middle;\n",
              "    }\n",
              "\n",
              "    .dataframe tbody tr th {\n",
              "        vertical-align: top;\n",
              "    }\n",
              "\n",
              "    .dataframe thead th {\n",
              "        text-align: right;\n",
              "    }\n",
              "</style>\n",
              "<table border=\"1\" class=\"dataframe\">\n",
              "  <thead>\n",
              "    <tr style=\"text-align: right;\">\n",
              "      <th></th>\n",
              "      <th>category</th>\n",
              "      <th>headline</th>\n",
              "    </tr>\n",
              "  </thead>\n",
              "  <tbody>\n",
              "    <tr>\n",
              "      <th>0</th>\n",
              "      <td>CRIME</td>\n",
              "      <td>There Were 2 Mass Shootings In Texas Last Week...</td>\n",
              "    </tr>\n",
              "    <tr>\n",
              "      <th>1</th>\n",
              "      <td>ENTERTAINMENT</td>\n",
              "      <td>Will Smith Joins Diplo And Nicky Jam For The 2...</td>\n",
              "    </tr>\n",
              "    <tr>\n",
              "      <th>2</th>\n",
              "      <td>ENTERTAINMENT</td>\n",
              "      <td>Hugh Grant Marries For The First Time At Age 57</td>\n",
              "    </tr>\n",
              "    <tr>\n",
              "      <th>3</th>\n",
              "      <td>ENTERTAINMENT</td>\n",
              "      <td>Jim Carrey Blasts 'Castrato' Adam Schiff And D...</td>\n",
              "    </tr>\n",
              "    <tr>\n",
              "      <th>4</th>\n",
              "      <td>ENTERTAINMENT</td>\n",
              "      <td>Julianna Margulies Uses Donald Trump Poop Bags...</td>\n",
              "    </tr>\n",
              "  </tbody>\n",
              "</table>\n",
              "</div>"
            ],
            "text/plain": [
              "        category                                           headline\n",
              "0          CRIME  There Were 2 Mass Shootings In Texas Last Week...\n",
              "1  ENTERTAINMENT  Will Smith Joins Diplo And Nicky Jam For The 2...\n",
              "2  ENTERTAINMENT    Hugh Grant Marries For The First Time At Age 57\n",
              "3  ENTERTAINMENT  Jim Carrey Blasts 'Castrato' Adam Schiff And D...\n",
              "4  ENTERTAINMENT  Julianna Margulies Uses Donald Trump Poop Bags..."
            ]
          },
          "metadata": {},
          "execution_count": 18
        }
      ]
    },
    {
      "cell_type": "code",
      "metadata": {
        "id": "8au2c6N1ChaC"
      },
      "source": [
        "def make_sentence_embeddings(df,model):\n",
        "  \n",
        "  sentence_embeddings = []\n",
        "\n",
        "  for index, row in df.iterrows():\n",
        "\n",
        "    # remove punctuation \n",
        "    cleaned_text = re.sub(r'[^\\w\\s]', '', row[\"headline\"])\n",
        "\n",
        "    # tokenize \n",
        "    tokens = word_tokenize(cleaned_text.lower())\n",
        "\n",
        "    # sum along each component of each word and divide by the length\n",
        "    # -> feature averaging  \n",
        "    try:\n",
        "      curr_embedding = np.mean(model[tokens], axis=0)\n",
        "      sentence_embeddings.append(curr_embedding)\n",
        "    except Exception as e:\n",
        "      # we must take into account anyway in order to evaluate its accuracy\n",
        "      sentence_embeddings.append(np.zeros(300))\n",
        "\n",
        "  return sentence_embeddings"
      ],
      "execution_count": 13,
      "outputs": []
    },
    {
      "cell_type": "markdown",
      "metadata": {
        "id": "9VBbEBO6xmEL"
      },
      "source": [
        "**Word2Vec + Average aggregation function**"
      ]
    },
    {
      "cell_type": "code",
      "metadata": {
        "id": "hMLzhOtH_lzn",
        "colab": {
          "base_uri": "https://localhost:8080/"
        },
        "outputId": "fcfae443-42ad-4861-dee1-67d86733f401"
      },
      "source": [
        "w2v_news = gensim.downloader.load('word2vec-google-news-300')"
      ],
      "execution_count": 7,
      "outputs": [
        {
          "output_type": "stream",
          "name": "stdout",
          "text": [
            "[==================================================] 100.0% 1662.8/1662.8MB downloaded\n"
          ]
        }
      ]
    },
    {
      "cell_type": "code",
      "metadata": {
        "id": "mmjcUbRCk2Ll",
        "colab": {
          "base_uri": "https://localhost:8080/"
        },
        "outputId": "2ebeb974-39b3-4970-9cc0-0efedc79c208"
      },
      "source": [
        "embeddings_word2vec = make_sentence_embeddings(df_headlines, w2v_news)\n",
        "classify(embeddings_word2vec, df_headlines[\"category\"])"
      ],
      "execution_count": 19,
      "outputs": [
        {
          "output_type": "stream",
          "name": "stdout",
          "text": [
            "Iteration 1, loss = 3.11540197\n",
            "Iteration 2, loss = 2.85637465\n",
            "Iteration 3, loss = 2.66317258\n",
            "Iteration 4, loss = 2.46956254\n",
            "Iteration 5, loss = 2.29294962\n",
            "Iteration 6, loss = 2.19001641\n",
            "Iteration 7, loss = 2.14768843\n",
            "Iteration 8, loss = 2.12770475\n",
            "Iteration 9, loss = 2.11304637\n",
            "Iteration 10, loss = 2.10108054\n",
            "Iteration 11, loss = 2.08919495\n",
            "Iteration 12, loss = 2.07907836\n",
            "Iteration 13, loss = 2.07004998\n",
            "Iteration 14, loss = 2.06158489\n",
            "Iteration 15, loss = 2.05336518\n",
            "Iteration 16, loss = 2.04643458\n",
            "Iteration 17, loss = 2.04011531\n",
            "Iteration 18, loss = 2.03339434\n",
            "Iteration 19, loss = 2.02742946\n",
            "Iteration 20, loss = 2.02232136\n",
            "Iteration 21, loss = 2.01659334\n",
            "Iteration 22, loss = 2.01143974\n",
            "Iteration 23, loss = 2.00674447\n",
            "Iteration 24, loss = 2.00185943\n",
            "Iteration 25, loss = 1.99774744\n",
            "Iteration 26, loss = 1.99334029\n",
            "Iteration 27, loss = 1.98907040\n",
            "Iteration 28, loss = 1.98465029\n",
            "Iteration 29, loss = 1.98102219\n",
            "Iteration 30, loss = 1.97711137\n",
            "Iteration 31, loss = 1.97389702\n",
            "Iteration 32, loss = 1.96939011\n",
            "Iteration 33, loss = 1.96703663\n",
            "Iteration 34, loss = 1.96328057\n",
            "Iteration 35, loss = 1.95984451\n",
            "Iteration 36, loss = 1.95633161\n",
            "Iteration 37, loss = 1.95325273\n",
            "Iteration 38, loss = 1.95058405\n",
            "Iteration 39, loss = 1.94762645\n",
            "Iteration 40, loss = 1.94470760\n",
            "Iteration 41, loss = 1.94181980\n",
            "Iteration 42, loss = 1.93902233\n",
            "Iteration 43, loss = 1.93647504\n",
            "Iteration 44, loss = 1.93400991\n",
            "Iteration 45, loss = 1.93158272\n",
            "Iteration 46, loss = 1.92863924\n",
            "Iteration 47, loss = 1.92605679\n",
            "Iteration 48, loss = 1.92385566\n",
            "Iteration 49, loss = 1.92149886\n",
            "Iteration 50, loss = 1.91880814\n",
            "Iteration 51, loss = 1.91685927\n",
            "Iteration 52, loss = 1.91417181\n",
            "Iteration 53, loss = 1.91174844\n",
            "Iteration 54, loss = 1.90954551\n",
            "Iteration 55, loss = 1.90835057\n",
            "Iteration 56, loss = 1.90629113\n",
            "Iteration 57, loss = 1.90366658\n",
            "Iteration 58, loss = 1.90200884\n",
            "Iteration 59, loss = 1.90047045\n",
            "Iteration 60, loss = 1.89797847\n",
            "Iteration 61, loss = 1.89563336\n",
            "Iteration 62, loss = 1.89426043\n",
            "Iteration 63, loss = 1.89258637\n",
            "Iteration 64, loss = 1.89072788\n",
            "Iteration 65, loss = 1.88803144\n",
            "Iteration 66, loss = 1.88664738\n",
            "Iteration 67, loss = 1.88495252\n",
            "Iteration 68, loss = 1.88324281\n",
            "Iteration 69, loss = 1.88173138\n",
            "Iteration 70, loss = 1.87990232\n",
            "Iteration 71, loss = 1.87819735\n",
            "Iteration 72, loss = 1.87679363\n",
            "Iteration 73, loss = 1.87497234\n",
            "Iteration 74, loss = 1.87419340\n",
            "Iteration 75, loss = 1.87198387\n",
            "Iteration 76, loss = 1.87081808\n",
            "Iteration 77, loss = 1.86883960\n",
            "Iteration 78, loss = 1.86798733\n",
            "Iteration 79, loss = 1.86654257\n",
            "Iteration 80, loss = 1.86500500\n",
            "Iteration 81, loss = 1.86364915\n",
            "Iteration 82, loss = 1.86213309\n",
            "Iteration 83, loss = 1.86101346\n",
            "Iteration 84, loss = 1.85999616\n",
            "Iteration 85, loss = 1.85833646\n",
            "Iteration 86, loss = 1.85694090\n",
            "Iteration 87, loss = 1.85554139\n",
            "Iteration 88, loss = 1.85411375\n",
            "Iteration 89, loss = 1.85394536\n",
            "Iteration 90, loss = 1.85196509\n",
            "Iteration 91, loss = 1.85079673\n",
            "Iteration 92, loss = 1.84923079\n",
            "Iteration 93, loss = 1.84830227\n",
            "Iteration 94, loss = 1.84788349\n",
            "Iteration 95, loss = 1.84651583\n",
            "Iteration 96, loss = 1.84528409\n",
            "Iteration 97, loss = 1.84380824\n",
            "Iteration 98, loss = 1.84254087\n",
            "Iteration 99, loss = 1.84214387\n",
            "Iteration 100, loss = 1.84036780\n",
            "Iteration 101, loss = 1.83976818\n",
            "Iteration 102, loss = 1.83849749\n",
            "Iteration 103, loss = 1.83786904\n",
            "Iteration 104, loss = 1.83692792\n",
            "Iteration 105, loss = 1.83583869\n",
            "Iteration 106, loss = 1.83500559\n",
            "Iteration 107, loss = 1.83419159\n",
            "Iteration 108, loss = 1.83282392\n",
            "Iteration 109, loss = 1.83178158\n",
            "Iteration 110, loss = 1.83102173\n",
            "Iteration 111, loss = 1.82992489\n",
            "Iteration 112, loss = 1.82925934\n",
            "Iteration 113, loss = 1.82829654\n",
            "Iteration 114, loss = 1.82757570\n",
            "Iteration 115, loss = 1.82652881\n",
            "Iteration 116, loss = 1.82569368\n",
            "Iteration 117, loss = 1.82469851\n",
            "Iteration 118, loss = 1.82414091\n",
            "Iteration 119, loss = 1.82313547\n",
            "Iteration 120, loss = 1.82252753\n",
            "Iteration 121, loss = 1.82176192\n",
            "Iteration 122, loss = 1.82061233\n",
            "Iteration 123, loss = 1.81981256\n",
            "Iteration 124, loss = 1.81890472\n",
            "Iteration 125, loss = 1.81823000\n",
            "Iteration 126, loss = 1.81759144\n",
            "Iteration 127, loss = 1.81672552\n",
            "Iteration 128, loss = 1.81621699\n",
            "Iteration 129, loss = 1.81540580\n",
            "Iteration 130, loss = 1.81476831\n",
            "Iteration 131, loss = 1.81380839\n",
            "Iteration 132, loss = 1.81328652\n",
            "Iteration 133, loss = 1.81237493\n",
            "Iteration 134, loss = 1.81159848\n",
            "Iteration 135, loss = 1.81095229\n",
            "Iteration 136, loss = 1.81015330\n",
            "Iteration 137, loss = 1.80941583\n",
            "Iteration 138, loss = 1.80925195\n",
            "Iteration 139, loss = 1.80802753\n",
            "Iteration 140, loss = 1.80827131\n",
            "Iteration 141, loss = 1.80678774\n",
            "Iteration 142, loss = 1.80608609\n",
            "Iteration 143, loss = 1.80567269\n",
            "Iteration 144, loss = 1.80466504\n",
            "Iteration 145, loss = 1.80429075\n",
            "Iteration 146, loss = 1.80351290\n",
            "Iteration 147, loss = 1.80296650\n",
            "Iteration 148, loss = 1.80263976\n",
            "Iteration 149, loss = 1.80142882\n",
            "Iteration 150, loss = 1.80099047\n",
            "Iteration 151, loss = 1.80023430\n",
            "Iteration 152, loss = 1.79982194\n",
            "Iteration 153, loss = 1.79927377\n",
            "Iteration 154, loss = 1.79836274\n",
            "Iteration 155, loss = 1.79885690\n",
            "Iteration 156, loss = 1.79768293\n",
            "Iteration 157, loss = 1.79736135\n",
            "Iteration 158, loss = 1.79698862\n",
            "Iteration 159, loss = 1.79590219\n",
            "Iteration 160, loss = 1.79556511\n",
            "Iteration 161, loss = 1.79531709\n",
            "Iteration 162, loss = 1.79446570\n",
            "Iteration 163, loss = 1.79410229\n",
            "Iteration 164, loss = 1.79378398\n",
            "Iteration 165, loss = 1.79315164\n",
            "Iteration 166, loss = 1.79313712\n",
            "Iteration 167, loss = 1.79223942\n",
            "Iteration 168, loss = 1.79170593\n",
            "Iteration 169, loss = 1.79147043\n",
            "Iteration 170, loss = 1.79090292\n",
            "Iteration 171, loss = 1.79024346\n",
            "Iteration 172, loss = 1.78999260\n",
            "Iteration 173, loss = 1.78944355\n",
            "Iteration 174, loss = 1.78905020\n",
            "Iteration 175, loss = 1.78895831\n",
            "Iteration 176, loss = 1.78812772\n",
            "Iteration 177, loss = 1.78778916\n",
            "Iteration 178, loss = 1.78726155\n",
            "Iteration 179, loss = 1.78693744\n",
            "Iteration 180, loss = 1.78683901\n",
            "Iteration 181, loss = 1.78603343\n",
            "Iteration 182, loss = 1.78584344\n",
            "Iteration 183, loss = 1.78565439\n",
            "Iteration 184, loss = 1.78508209\n",
            "Iteration 185, loss = 1.78473103\n",
            "Iteration 186, loss = 1.78421217\n",
            "Iteration 187, loss = 1.78418842\n",
            "Iteration 188, loss = 1.78350583\n",
            "Iteration 189, loss = 1.78324030\n",
            "Iteration 190, loss = 1.78272832\n",
            "Iteration 191, loss = 1.78202475\n",
            "Iteration 192, loss = 1.78203618\n",
            "Iteration 193, loss = 1.78201418\n",
            "Iteration 194, loss = 1.78181638\n",
            "Iteration 195, loss = 1.78160247\n",
            "Iteration 196, loss = 1.78124943\n",
            "Iteration 197, loss = 1.78087958\n",
            "Iteration 198, loss = 1.78015237\n",
            "Iteration 199, loss = 1.77953988\n",
            "Iteration 200, loss = 1.77992827\n",
            "Accuracy: 0.3975\n"
          ]
        },
        {
          "output_type": "stream",
          "name": "stderr",
          "text": [
            "/usr/local/lib/python3.7/dist-packages/sklearn/neural_network/_multilayer_perceptron.py:571: ConvergenceWarning: Stochastic Optimizer: Maximum iterations (200) reached and the optimization hasn't converged yet.\n",
            "  % self.max_iter, ConvergenceWarning)\n"
          ]
        }
      ]
    },
    {
      "cell_type": "markdown",
      "metadata": {
        "id": "kTLSmUJXxeId"
      },
      "source": [
        "**FastText + Average aggregation function**"
      ]
    },
    {
      "cell_type": "code",
      "metadata": {
        "id": "VtMLnlTyk4J7",
        "colab": {
          "base_uri": "https://localhost:8080/"
        },
        "outputId": "f077dd46-5404-46c0-abba-14f84e1f763f"
      },
      "source": [
        "ft_wiki_news = gensim.downloader.load('fasttext-wiki-news-subwords-300')"
      ],
      "execution_count": null,
      "outputs": [
        {
          "output_type": "stream",
          "name": "stdout",
          "text": [
            "[==================================================] 100.0% 958.5/958.4MB downloaded\n"
          ]
        }
      ]
    },
    {
      "cell_type": "code",
      "metadata": {
        "id": "TQucSvSiCkOq"
      },
      "source": [
        "embeddings_ft = make_sentence_embeddings(df_headlines,ft_wiki_news)\n",
        "\n",
        "# to do : manage out of vocabulary error!\n",
        "\n",
        "classify(embeddings_ft, df_headlines[\"category\"])"
      ],
      "execution_count": null,
      "outputs": []
    },
    {
      "cell_type": "markdown",
      "metadata": {
        "id": "mBjSrAx9xrON"
      },
      "source": [
        "**Doc2Vec (Text8)**"
      ]
    },
    {
      "cell_type": "code",
      "metadata": {
        "id": "rbcc4qWmk9Jt"
      },
      "source": [
        "from gensim.models.doc2vec import Doc2Vec, TaggedDocument\n",
        "from nltk.tokenize import word_tokenize\n",
        "\n",
        "from sklearn.metrics.pairwise import cosine_similarity\n",
        "\n",
        "import gensim.downloader as api\n",
        "\n",
        "text8 = api.load(\"text8\")\n",
        "dataset_text8 = [data for data in text8]\n",
        "\n",
        "# create a tagged document based on text8 corpura (as requested)\n",
        "tagged_data = [TaggedDocument(words=words, tags=[i]) for i,words in enumerate(dataset_text8)]"
      ],
      "execution_count": null,
      "outputs": []
    },
    {
      "cell_type": "code",
      "metadata": {
        "colab": {
          "base_uri": "https://localhost:8080/"
        },
        "id": "ChGqYA_L_5n7",
        "outputId": "e69785ac-8638-4a4e-c5ce-dc0a268446de"
      },
      "source": [
        "%%time\n",
        "d2v_text8 = Doc2Vec(document=tagged_data,\n",
        "                alpha=0.1,\n",
        "                min_alpha=0.0001,\n",
        "                min_count=1,\n",
        "                dm=1,\n",
        "                epochs=10,\n",
        "                vector_size=50)\n",
        "\n",
        "d2v_text8.build_vocab(tagged_data)\n",
        "d2v_text8.train(tagged_data, total_words=model.corpus_count, epochs=model.epochs)"
      ],
      "execution_count": null,
      "outputs": [
        {
          "name": "stdout",
          "output_type": "stream",
          "text": [
            "CPU times: user 2min 1s, sys: 1.81 s, total: 2min 3s\n",
            "Wall time: 1min 35s\n"
          ]
        }
      ]
    },
    {
      "cell_type": "code",
      "metadata": {
        "id": "unN4SLlbIy_C"
      },
      "source": [
        "X_d2v = []\n",
        "\n",
        "for i, row in df_headlines.iterrows():\n",
        "  X_d2v.append(d2v_text8.infer_vector(word_tokenize(row[\"headline\"].lower())))"
      ],
      "execution_count": null,
      "outputs": []
    },
    {
      "cell_type": "code",
      "metadata": {
        "colab": {
          "base_uri": "https://localhost:8080/"
        },
        "id": "75A_vLecMGOP",
        "outputId": "a9d5e996-2bef-430f-b837-c7110d7f10f9"
      },
      "source": [
        "classify(X_d2v,df_headlines[\"category\"])"
      ],
      "execution_count": null,
      "outputs": [
        {
          "name": "stdout",
          "output_type": "stream",
          "text": [
            "Accuracy: 0.3605\n"
          ]
        }
      ]
    },
    {
      "cell_type": "markdown",
      "metadata": {
        "id": "t7DkgKMcxrIy"
      },
      "source": [
        "**InferSent**"
      ]
    },
    {
      "cell_type": "code",
      "metadata": {
        "colab": {
          "background_save": true
        },
        "id": "JCIQ1EEUYEwk"
      },
      "source": [
        "%%capture\n",
        "# InferSent download required files\n",
        "\n",
        "! mkdir fastText\n",
        "! curl -Lo fastText/crawl-300d-2M.vec.zip https://dl.fbaipublicfiles.com/fasttext/vectors-english/crawl-300d-2M.vec.zip\n",
        "! unzip fastText/crawl-300d-2M.vec.zip -d fastText/\n",
        "! mkdir encoder\n",
        "! curl -Lo encoder/infersent2.pkl https://dl.fbaipublicfiles.com/infersent/infersent2.pkl\n",
        "! git clone https://github.com/facebookresearch/InferSent.git"
      ],
      "execution_count": null,
      "outputs": []
    },
    {
      "cell_type": "code",
      "metadata": {
        "id": "QmtxnnC0Y9Cb"
      },
      "source": [
        "from InferSent.models import InferSent\n",
        "import torch\n",
        "\n",
        "V = 2\n",
        "MODEL_PATH = 'encoder/infersent%s.pkl' % V\n",
        "params_model = {'bsize': 64, 'word_emb_dim': 300, 'enc_lstm_dim': 2048,\n",
        "                'pool_type': 'max', 'dpout_model': 0.0, 'version': V}\n",
        "infersent = InferSent(params_model)\n",
        "infersent.load_state_dict(torch.load(MODEL_PATH))\n",
        "\n",
        "W2V_PATH = 'fastText/crawl-300d-2M.vec'\n",
        "infersent.set_w2v_path(W2V_PATH)"
      ],
      "execution_count": null,
      "outputs": []
    },
    {
      "cell_type": "code",
      "metadata": {
        "colab": {
          "base_uri": "https://localhost:8080/"
        },
        "id": "skSxCTPZWlw3",
        "outputId": "6c9d668f-5e8b-4c63-ae5c-d4d810fcc727"
      },
      "source": [
        "infersent.build_vocab(df_headlines[\"headline\"], tokenize=True)\n",
        "X_is = infersent.encode(df_headlines[\"headline\"], tokenize=True)"
      ],
      "execution_count": null,
      "outputs": [
        {
          "output_type": "stream",
          "name": "stdout",
          "text": [
            "Found 13627(/15255) words with w2v vectors\n",
            "Vocab size : 13627\n"
          ]
        },
        {
          "output_type": "stream",
          "name": "stderr",
          "text": [
            "/content/InferSent/models.py:207: VisibleDeprecationWarning: Creating an ndarray from ragged nested sequences (which is a list-or-tuple of lists-or-tuples-or ndarrays with different lengths or shapes) is deprecated. If you meant to do this, you must specify 'dtype=object' when creating the ndarray\n",
            "  sentences = np.array(sentences)[idx_sort]\n"
          ]
        }
      ]
    },
    {
      "cell_type": "code",
      "metadata": {
        "colab": {
          "base_uri": "https://localhost:8080/"
        },
        "id": "CaqbCcBcWlZe",
        "outputId": "e2695630-4595-47c3-961a-e7517838beec"
      },
      "source": [
        "classify(X_is,df_headlines[\"category\"])"
      ],
      "execution_count": null,
      "outputs": [
        {
          "output_type": "stream",
          "name": "stdout",
          "text": [
            "Accuracy: 0.6835\n"
          ]
        }
      ]
    }
  ]
}