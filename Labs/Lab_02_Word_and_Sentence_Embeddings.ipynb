{
  "nbformat": 4,
  "nbformat_minor": 0,
  "metadata": {
    "colab": {
      "name": "Practice 2 - Word and Sentence Embeddings.ipynb",
      "provenance": [],
      "collapsed_sections": [
        "w-9kQCr4P8wP",
        "Mij5WNAARGMl"
      ],
      "include_colab_link": true
    },
    "kernelspec": {
      "name": "python3",
      "display_name": "Python 3"
    },
    "language_info": {
      "name": "python"
    },
    "accelerator": "GPU"
  },
  "cells": [
    {
      "cell_type": "markdown",
      "metadata": {
        "id": "view-in-github",
        "colab_type": "text"
      },
      "source": [
        "<a href=\"https://colab.research.google.com/github/francescodisalvo05/polito-deep-nlp/blob/main/Labs/Lab_02_Word_and_Sentence_Embeddings.ipynb\" target=\"_parent\"><img src=\"https://colab.research.google.com/assets/colab-badge.svg\" alt=\"Open In Colab\"/></a>"
      ]
    },
    {
      "cell_type": "markdown",
      "metadata": {
        "id": "dbYDu6cchK-l"
      },
      "source": [
        "#**Deep Natural Language Processing @ PoliTO**\n",
        "\n",
        "---\n",
        "\n",
        "\n",
        "**Teaching Assistant:** Moreno La Quatra\n",
        "\n",
        "**Practice 2:** Word and Sentence Embeddings"
      ]
    },
    {
      "cell_type": "markdown",
      "metadata": {
        "id": "zbJsg8XEOudF"
      },
      "source": [
        "## Word Embedding \n",
        "\n",
        "![](https://qph.fs.quoracdn.net/main-qimg-3e812fd164a08f5e4f195000fecf988f)\n",
        "\n",
        "\n",
        "**Key takeaways** from lessons and in-class practices:\n",
        "- Word embeddings are able to map words into a semantic-aware vector space\n",
        "- There are multiple architectures for the generation of word embeddings\n",
        "- Each architecture has its advantages and disadvantages\n",
        "- Word embedding evaluation could be intrinsic (intermediate tasks) or extrinsic (downstream task)\n",
        "- It is possible to use pre-trained word embedding models or use large amount of text to train it from scratch\n"
      ]
    },
    {
      "cell_type": "markdown",
      "metadata": {
        "id": "w-9kQCr4P8wP"
      },
      "source": [
        "### **Question 1**\n",
        "\n",
        "Train a new Word2Vec model using gensim with the text8 corpus available in the python package ([reference](https://radimrehurek.com/gensim/downloader.html)). Compute the training time for the model and store it for subsequent steps."
      ]
    },
    {
      "cell_type": "code",
      "metadata": {
        "id": "UW_G_mRAOt9e"
      },
      "source": [
        "! pip install --upgrade gensim"
      ],
      "execution_count": null,
      "outputs": []
    },
    {
      "cell_type": "code",
      "metadata": {
        "id": "RHK2BAd7SIDk"
      },
      "source": [
        "!wget http://mattmahoney.net/dc/text8.zip\n",
        "!unzip text8.zip text8"
      ],
      "execution_count": null,
      "outputs": []
    },
    {
      "cell_type": "code",
      "metadata": {
        "id": "od6-XXHkkkxV",
        "colab": {
          "base_uri": "https://localhost:8080/"
        },
        "outputId": "d0e04a3d-5fbf-42a5-9099-aba865c5cfb1"
      },
      "source": [
        "import gensim.downloader as api\n",
        "from gensim.models import Word2Vec\n",
        "\n",
        "dataset = api.load(\"text8\") "
      ],
      "execution_count": null,
      "outputs": [
        {
          "output_type": "stream",
          "name": "stdout",
          "text": [
            "[==================================================] 100.0% 31.6/31.6MB downloaded\n"
          ]
        }
      ]
    },
    {
      "cell_type": "code",
      "metadata": {
        "colab": {
          "base_uri": "https://localhost:8080/"
        },
        "id": "hdO5jgNpKuwz",
        "outputId": "2ba2297e-76dc-4be7-e204-6ddf79afd6a6"
      },
      "source": [
        "%%time\n",
        "model = Word2Vec(dataset) # default values\n",
        "model.save(\"word2vec.model\")"
      ],
      "execution_count": null,
      "outputs": [
        {
          "output_type": "stream",
          "name": "stdout",
          "text": [
            "CPU times: user 4min 18s, sys: 2.34 s, total: 4min 20s\n",
            "Wall time: 2min 21s\n"
          ]
        }
      ]
    },
    {
      "cell_type": "markdown",
      "metadata": {
        "id": "Mij5WNAARGMl"
      },
      "source": [
        "### **Question 2**:\n",
        "Perform intrinsic evaluation of the model for the task of word analogy by exploiting the data collection available [here](https://raw.githubusercontent.com/MorenoLaQuatra/DeepNLP/main/practices/P2/google_analogies.csv). \n",
        "\n",
        "1. read CSV file\n",
        "2. group analogy entries by type (column: `type`)\n",
        "3. for each type entry (**in the lab, just set type=\"family\"** to reduce the required time) use the first 3 word vectors to compute the fourth\n",
        "    - Entry: `Athens,Greece,Baghdad,Iraq`\n",
        "    - `v(Greece) - v(Athens) + v(Baghdad) = res_v` \n",
        "    - Get the most similar vectors to `res_v`\n",
        "    - Compute in how many cases the correct word is among the top K (if `v[Iraq]` is among the K most similar words) with `K = 1, 3, 5, 10`\n",
        "\n",
        "$top(k) = \\dfrac{\\sum_{i=1}^{N} f(i)}{|E|}$\n",
        "\n",
        "where $f(i) = 1$ if the target word is among the top k and $f(i) = 0$ otherwise.\n",
        "\n",
        "$|E|$ is the total number of entries for the considered type.\n",
        "\n",
        "**Notes:**\n",
        "1. Try with the model trained on `text8`, is there any issue?\n",
        "2. Test the model trained on Google News available in gensim.\n",
        "\n"
      ]
    },
    {
      "cell_type": "code",
      "metadata": {
        "id": "dJaY8eWTgWkE"
      },
      "source": [
        "# Using Word2Vec trained on \"text8\" we obtain an \"out of vocabulary\" error\n",
        "# whereas the one trained on \"Google News\" was smooth but slower"
      ],
      "execution_count": null,
      "outputs": []
    },
    {
      "cell_type": "code",
      "metadata": {
        "id": "VArA054TTX5y"
      },
      "source": [
        "%%capture\n",
        "! wget https://raw.githubusercontent.com/MorenoLaQuatra/DeepNLP/main/practices/P2/google_analogies.csv"
      ],
      "execution_count": null,
      "outputs": []
    },
    {
      "cell_type": "code",
      "metadata": {
        "id": "LDPl6w1ob3WX",
        "colab": {
          "base_uri": "https://localhost:8080/",
          "height": 358
        },
        "outputId": "5aaf669a-7ce7-4727-c1bf-b15c6789fae8"
      },
      "source": [
        "# Executing this cell could take ~5 minutes\n",
        "import gensim.downloader\n",
        "w2v_google_news_model = gensim.downloader.load('word2vec-google-news-300')"
      ],
      "execution_count": 40,
      "outputs": [
        {
          "output_type": "stream",
          "name": "stdout",
          "text": [
            "[==------------------------------------------------] 4.8% 80.6/1662.8MB downloaded"
          ]
        },
        {
          "output_type": "error",
          "ename": "KeyboardInterrupt",
          "evalue": "ignored",
          "traceback": [
            "\u001b[0;31m---------------------------------------------------------------------------\u001b[0m",
            "\u001b[0;31mKeyboardInterrupt\u001b[0m                         Traceback (most recent call last)",
            "\u001b[0;32m<ipython-input-40-fc47ca66afde>\u001b[0m in \u001b[0;36m<module>\u001b[0;34m()\u001b[0m\n\u001b[1;32m      1\u001b[0m \u001b[0;31m# Executing this cell could take ~5 minutes\u001b[0m\u001b[0;34m\u001b[0m\u001b[0;34m\u001b[0m\u001b[0;34m\u001b[0m\u001b[0m\n\u001b[1;32m      2\u001b[0m \u001b[0;32mimport\u001b[0m \u001b[0mgensim\u001b[0m\u001b[0;34m.\u001b[0m\u001b[0mdownloader\u001b[0m\u001b[0;34m\u001b[0m\u001b[0;34m\u001b[0m\u001b[0m\n\u001b[0;32m----> 3\u001b[0;31m \u001b[0mw2v_google_news_model\u001b[0m \u001b[0;34m=\u001b[0m \u001b[0mgensim\u001b[0m\u001b[0;34m.\u001b[0m\u001b[0mdownloader\u001b[0m\u001b[0;34m.\u001b[0m\u001b[0mload\u001b[0m\u001b[0;34m(\u001b[0m\u001b[0;34m'word2vec-google-news-300'\u001b[0m\u001b[0;34m)\u001b[0m\u001b[0;34m\u001b[0m\u001b[0;34m\u001b[0m\u001b[0m\n\u001b[0m",
            "\u001b[0;32m/usr/local/lib/python3.7/dist-packages/gensim/downloader.py\u001b[0m in \u001b[0;36mload\u001b[0;34m(name, return_path)\u001b[0m\n\u001b[1;32m    415\u001b[0m     \u001b[0mpath\u001b[0m \u001b[0;34m=\u001b[0m \u001b[0mos\u001b[0m\u001b[0;34m.\u001b[0m\u001b[0mpath\u001b[0m\u001b[0;34m.\u001b[0m\u001b[0mjoin\u001b[0m\u001b[0;34m(\u001b[0m\u001b[0mfolder_dir\u001b[0m\u001b[0;34m,\u001b[0m \u001b[0mfile_name\u001b[0m\u001b[0;34m)\u001b[0m\u001b[0;34m\u001b[0m\u001b[0;34m\u001b[0m\u001b[0m\n\u001b[1;32m    416\u001b[0m     \u001b[0;32mif\u001b[0m \u001b[0;32mnot\u001b[0m \u001b[0mos\u001b[0m\u001b[0;34m.\u001b[0m\u001b[0mpath\u001b[0m\u001b[0;34m.\u001b[0m\u001b[0mexists\u001b[0m\u001b[0;34m(\u001b[0m\u001b[0mfolder_dir\u001b[0m\u001b[0;34m)\u001b[0m\u001b[0;34m:\u001b[0m\u001b[0;34m\u001b[0m\u001b[0;34m\u001b[0m\u001b[0m\n\u001b[0;32m--> 417\u001b[0;31m         \u001b[0m_download\u001b[0m\u001b[0;34m(\u001b[0m\u001b[0mname\u001b[0m\u001b[0;34m)\u001b[0m\u001b[0;34m\u001b[0m\u001b[0;34m\u001b[0m\u001b[0m\n\u001b[0m\u001b[1;32m    418\u001b[0m \u001b[0;34m\u001b[0m\u001b[0m\n\u001b[1;32m    419\u001b[0m     \u001b[0;32mif\u001b[0m \u001b[0mreturn_path\u001b[0m\u001b[0;34m:\u001b[0m\u001b[0;34m\u001b[0m\u001b[0;34m\u001b[0m\u001b[0m\n",
            "\u001b[0;32m/usr/local/lib/python3.7/dist-packages/gensim/downloader.py\u001b[0m in \u001b[0;36m_download\u001b[0;34m(name)\u001b[0m\n\u001b[1;32m    322\u001b[0m         \u001b[0mfname\u001b[0m \u001b[0;34m=\u001b[0m \u001b[0;34m\"{fname}.gz\"\u001b[0m\u001b[0;34m.\u001b[0m\u001b[0mformat\u001b[0m\u001b[0;34m(\u001b[0m\u001b[0mfname\u001b[0m\u001b[0;34m=\u001b[0m\u001b[0mname\u001b[0m\u001b[0;34m)\u001b[0m\u001b[0;34m\u001b[0m\u001b[0;34m\u001b[0m\u001b[0m\n\u001b[1;32m    323\u001b[0m         \u001b[0mdst_path\u001b[0m \u001b[0;34m=\u001b[0m \u001b[0mos\u001b[0m\u001b[0;34m.\u001b[0m\u001b[0mpath\u001b[0m\u001b[0;34m.\u001b[0m\u001b[0mjoin\u001b[0m\u001b[0;34m(\u001b[0m\u001b[0mtmp_dir\u001b[0m\u001b[0;34m,\u001b[0m \u001b[0mfname\u001b[0m\u001b[0;34m)\u001b[0m\u001b[0;34m\u001b[0m\u001b[0;34m\u001b[0m\u001b[0m\n\u001b[0;32m--> 324\u001b[0;31m         \u001b[0murllib\u001b[0m\u001b[0;34m.\u001b[0m\u001b[0murlretrieve\u001b[0m\u001b[0;34m(\u001b[0m\u001b[0murl_data\u001b[0m\u001b[0;34m,\u001b[0m \u001b[0mdst_path\u001b[0m\u001b[0;34m,\u001b[0m \u001b[0mreporthook\u001b[0m\u001b[0;34m=\u001b[0m\u001b[0m_progress\u001b[0m\u001b[0;34m)\u001b[0m\u001b[0;34m\u001b[0m\u001b[0;34m\u001b[0m\u001b[0m\n\u001b[0m\u001b[1;32m    325\u001b[0m         \u001b[0;32mif\u001b[0m \u001b[0m_calculate_md5_checksum\u001b[0m\u001b[0;34m(\u001b[0m\u001b[0mdst_path\u001b[0m\u001b[0;34m)\u001b[0m \u001b[0;34m==\u001b[0m \u001b[0m_get_checksum\u001b[0m\u001b[0;34m(\u001b[0m\u001b[0mname\u001b[0m\u001b[0;34m)\u001b[0m\u001b[0;34m:\u001b[0m\u001b[0;34m\u001b[0m\u001b[0;34m\u001b[0m\u001b[0m\n\u001b[1;32m    326\u001b[0m             \u001b[0msys\u001b[0m\u001b[0;34m.\u001b[0m\u001b[0mstdout\u001b[0m\u001b[0;34m.\u001b[0m\u001b[0mwrite\u001b[0m\u001b[0;34m(\u001b[0m\u001b[0;34m\"\\n\"\u001b[0m\u001b[0;34m)\u001b[0m\u001b[0;34m\u001b[0m\u001b[0;34m\u001b[0m\u001b[0m\n",
            "\u001b[0;32m/usr/lib/python3.7/urllib/request.py\u001b[0m in \u001b[0;36murlretrieve\u001b[0;34m(url, filename, reporthook, data)\u001b[0m\n\u001b[1;32m    281\u001b[0m                 \u001b[0mblocknum\u001b[0m \u001b[0;34m+=\u001b[0m \u001b[0;36m1\u001b[0m\u001b[0;34m\u001b[0m\u001b[0;34m\u001b[0m\u001b[0m\n\u001b[1;32m    282\u001b[0m                 \u001b[0;32mif\u001b[0m \u001b[0mreporthook\u001b[0m\u001b[0;34m:\u001b[0m\u001b[0;34m\u001b[0m\u001b[0;34m\u001b[0m\u001b[0m\n\u001b[0;32m--> 283\u001b[0;31m                     \u001b[0mreporthook\u001b[0m\u001b[0;34m(\u001b[0m\u001b[0mblocknum\u001b[0m\u001b[0;34m,\u001b[0m \u001b[0mbs\u001b[0m\u001b[0;34m,\u001b[0m \u001b[0msize\u001b[0m\u001b[0;34m)\u001b[0m\u001b[0;34m\u001b[0m\u001b[0;34m\u001b[0m\u001b[0m\n\u001b[0m\u001b[1;32m    284\u001b[0m \u001b[0;34m\u001b[0m\u001b[0m\n\u001b[1;32m    285\u001b[0m     \u001b[0;32mif\u001b[0m \u001b[0msize\u001b[0m \u001b[0;34m>=\u001b[0m \u001b[0;36m0\u001b[0m \u001b[0;32mand\u001b[0m \u001b[0mread\u001b[0m \u001b[0;34m<\u001b[0m \u001b[0msize\u001b[0m\u001b[0;34m:\u001b[0m\u001b[0;34m\u001b[0m\u001b[0;34m\u001b[0m\u001b[0m\n",
            "\u001b[0;32m/usr/local/lib/python3.7/dist-packages/gensim/downloader.py\u001b[0m in \u001b[0;36m_progress\u001b[0;34m(chunks_downloaded, chunk_size, total_size, part, total_parts)\u001b[0m\n\u001b[1;32m     96\u001b[0m                 round(float(total_size) / (1024 * 1024), 1))\n\u001b[1;32m     97\u001b[0m         )\n\u001b[0;32m---> 98\u001b[0;31m         \u001b[0msys\u001b[0m\u001b[0;34m.\u001b[0m\u001b[0mstdout\u001b[0m\u001b[0;34m.\u001b[0m\u001b[0mflush\u001b[0m\u001b[0;34m(\u001b[0m\u001b[0;34m)\u001b[0m\u001b[0;34m\u001b[0m\u001b[0;34m\u001b[0m\u001b[0m\n\u001b[0m\u001b[1;32m     99\u001b[0m     \u001b[0;32melse\u001b[0m\u001b[0;34m:\u001b[0m\u001b[0;34m\u001b[0m\u001b[0;34m\u001b[0m\u001b[0m\n\u001b[1;32m    100\u001b[0m         sys.stdout.write(\n",
            "\u001b[0;32m/usr/local/lib/python3.7/dist-packages/ipykernel/iostream.py\u001b[0m in \u001b[0;36mflush\u001b[0;34m(self)\u001b[0m\n\u001b[1;32m    347\u001b[0m                 \u001b[0mself\u001b[0m\u001b[0;34m.\u001b[0m\u001b[0mpub_thread\u001b[0m\u001b[0;34m.\u001b[0m\u001b[0mschedule\u001b[0m\u001b[0;34m(\u001b[0m\u001b[0mevt\u001b[0m\u001b[0;34m.\u001b[0m\u001b[0mset\u001b[0m\u001b[0;34m)\u001b[0m\u001b[0;34m\u001b[0m\u001b[0;34m\u001b[0m\u001b[0m\n\u001b[1;32m    348\u001b[0m                 \u001b[0;31m# and give a timeout to avoid\u001b[0m\u001b[0;34m\u001b[0m\u001b[0;34m\u001b[0m\u001b[0;34m\u001b[0m\u001b[0m\n\u001b[0;32m--> 349\u001b[0;31m                 \u001b[0;32mif\u001b[0m \u001b[0;32mnot\u001b[0m \u001b[0mevt\u001b[0m\u001b[0;34m.\u001b[0m\u001b[0mwait\u001b[0m\u001b[0;34m(\u001b[0m\u001b[0mself\u001b[0m\u001b[0;34m.\u001b[0m\u001b[0mflush_timeout\u001b[0m\u001b[0;34m)\u001b[0m\u001b[0;34m:\u001b[0m\u001b[0;34m\u001b[0m\u001b[0;34m\u001b[0m\u001b[0m\n\u001b[0m\u001b[1;32m    350\u001b[0m                     \u001b[0;31m# write directly to __stderr__ instead of warning because\u001b[0m\u001b[0;34m\u001b[0m\u001b[0;34m\u001b[0m\u001b[0;34m\u001b[0m\u001b[0m\n\u001b[1;32m    351\u001b[0m                     \u001b[0;31m# if this is happening sys.stderr may be the problem.\u001b[0m\u001b[0;34m\u001b[0m\u001b[0;34m\u001b[0m\u001b[0;34m\u001b[0m\u001b[0m\n",
            "\u001b[0;32m/usr/lib/python3.7/threading.py\u001b[0m in \u001b[0;36mwait\u001b[0;34m(self, timeout)\u001b[0m\n\u001b[1;32m    550\u001b[0m             \u001b[0msignaled\u001b[0m \u001b[0;34m=\u001b[0m \u001b[0mself\u001b[0m\u001b[0;34m.\u001b[0m\u001b[0m_flag\u001b[0m\u001b[0;34m\u001b[0m\u001b[0;34m\u001b[0m\u001b[0m\n\u001b[1;32m    551\u001b[0m             \u001b[0;32mif\u001b[0m \u001b[0;32mnot\u001b[0m \u001b[0msignaled\u001b[0m\u001b[0;34m:\u001b[0m\u001b[0;34m\u001b[0m\u001b[0;34m\u001b[0m\u001b[0m\n\u001b[0;32m--> 552\u001b[0;31m                 \u001b[0msignaled\u001b[0m \u001b[0;34m=\u001b[0m \u001b[0mself\u001b[0m\u001b[0;34m.\u001b[0m\u001b[0m_cond\u001b[0m\u001b[0;34m.\u001b[0m\u001b[0mwait\u001b[0m\u001b[0;34m(\u001b[0m\u001b[0mtimeout\u001b[0m\u001b[0;34m)\u001b[0m\u001b[0;34m\u001b[0m\u001b[0;34m\u001b[0m\u001b[0m\n\u001b[0m\u001b[1;32m    553\u001b[0m             \u001b[0;32mreturn\u001b[0m \u001b[0msignaled\u001b[0m\u001b[0;34m\u001b[0m\u001b[0;34m\u001b[0m\u001b[0m\n\u001b[1;32m    554\u001b[0m \u001b[0;34m\u001b[0m\u001b[0m\n",
            "\u001b[0;32m/usr/lib/python3.7/threading.py\u001b[0m in \u001b[0;36mwait\u001b[0;34m(self, timeout)\u001b[0m\n\u001b[1;32m    298\u001b[0m             \u001b[0;32melse\u001b[0m\u001b[0;34m:\u001b[0m\u001b[0;34m\u001b[0m\u001b[0;34m\u001b[0m\u001b[0m\n\u001b[1;32m    299\u001b[0m                 \u001b[0;32mif\u001b[0m \u001b[0mtimeout\u001b[0m \u001b[0;34m>\u001b[0m \u001b[0;36m0\u001b[0m\u001b[0;34m:\u001b[0m\u001b[0;34m\u001b[0m\u001b[0;34m\u001b[0m\u001b[0m\n\u001b[0;32m--> 300\u001b[0;31m                     \u001b[0mgotit\u001b[0m \u001b[0;34m=\u001b[0m \u001b[0mwaiter\u001b[0m\u001b[0;34m.\u001b[0m\u001b[0macquire\u001b[0m\u001b[0;34m(\u001b[0m\u001b[0;32mTrue\u001b[0m\u001b[0;34m,\u001b[0m \u001b[0mtimeout\u001b[0m\u001b[0;34m)\u001b[0m\u001b[0;34m\u001b[0m\u001b[0;34m\u001b[0m\u001b[0m\n\u001b[0m\u001b[1;32m    301\u001b[0m                 \u001b[0;32melse\u001b[0m\u001b[0;34m:\u001b[0m\u001b[0;34m\u001b[0m\u001b[0;34m\u001b[0m\u001b[0m\n\u001b[1;32m    302\u001b[0m                     \u001b[0mgotit\u001b[0m \u001b[0;34m=\u001b[0m \u001b[0mwaiter\u001b[0m\u001b[0;34m.\u001b[0m\u001b[0macquire\u001b[0m\u001b[0;34m(\u001b[0m\u001b[0;32mFalse\u001b[0m\u001b[0;34m)\u001b[0m\u001b[0;34m\u001b[0m\u001b[0;34m\u001b[0m\u001b[0m\n",
            "\u001b[0;31mKeyboardInterrupt\u001b[0m: "
          ]
        }
      ]
    },
    {
      "cell_type": "code",
      "metadata": {
        "id": "6ykQt1UPkjfj"
      },
      "source": [
        "import pandas as pd\n",
        "\n",
        "# read CSV file\n",
        "data_analogies = pd.read_csv('google_analogies.csv').drop(columns=[\"Unnamed: 0\"])\n",
        "\n",
        "# filter only \"family\" type\n",
        "family_analogies = data_analogies[data_analogies[\"type\"] == \"family\"].copy()"
      ],
      "execution_count": null,
      "outputs": []
    },
    {
      "cell_type": "code",
      "metadata": {
        "id": "naqOerHCPryp"
      },
      "source": [
        "# get the embeddings for word1, word2 and word3 -> let us call v1,v2 and v3\n",
        "def getV4(row):\n",
        "  \n",
        "  # compute the algebraic operation -> v4 is a row vector\n",
        "  v4 = w2v_google_news_model[row[\"word2\"]] - w2v_google_news_model[row[\"word1\"]] + w2v_google_news_model[row[\"word3\"]]\n",
        "\n",
        "  # get the 10 most similar word to v4\n",
        "  top10 = w2v_google_news_model.most_similar(v4)[:10]\n",
        "\n",
        "  # return only the list of top10 values (without the scores)\n",
        "  return [ x[0] for x in top10 ]\n",
        "\n",
        "family_analogies[\"v4\"] = family_analogies.apply(getV4, axis=1)"
      ],
      "execution_count": null,
      "outputs": []
    },
    {
      "cell_type": "code",
      "metadata": {
        "colab": {
          "base_uri": "https://localhost:8080/",
          "height": 204
        },
        "id": "KeLIYyg-fC-T",
        "outputId": "5973e4cb-a5a8-4fbd-d700-ef93afae6b62"
      },
      "source": [
        "family_analogies.head()"
      ],
      "execution_count": null,
      "outputs": [
        {
          "output_type": "execute_result",
          "data": {
            "text/html": [
              "<div>\n",
              "<style scoped>\n",
              "    .dataframe tbody tr th:only-of-type {\n",
              "        vertical-align: middle;\n",
              "    }\n",
              "\n",
              "    .dataframe tbody tr th {\n",
              "        vertical-align: top;\n",
              "    }\n",
              "\n",
              "    .dataframe thead th {\n",
              "        text-align: right;\n",
              "    }\n",
              "</style>\n",
              "<table border=\"1\" class=\"dataframe\">\n",
              "  <thead>\n",
              "    <tr style=\"text-align: right;\">\n",
              "      <th></th>\n",
              "      <th>type</th>\n",
              "      <th>word1</th>\n",
              "      <th>word2</th>\n",
              "      <th>word3</th>\n",
              "      <th>target</th>\n",
              "      <th>v4</th>\n",
              "    </tr>\n",
              "  </thead>\n",
              "  <tbody>\n",
              "    <tr>\n",
              "      <th>8363</th>\n",
              "      <td>family</td>\n",
              "      <td>boy</td>\n",
              "      <td>girl</td>\n",
              "      <td>brother</td>\n",
              "      <td>sister</td>\n",
              "      <td>[brother, sister, cousin, daughter, niece, son...</td>\n",
              "    </tr>\n",
              "    <tr>\n",
              "      <th>8364</th>\n",
              "      <td>family</td>\n",
              "      <td>boy</td>\n",
              "      <td>girl</td>\n",
              "      <td>brothers</td>\n",
              "      <td>sisters</td>\n",
              "      <td>[brothers, sisters, siblings, sons, sister, br...</td>\n",
              "    </tr>\n",
              "    <tr>\n",
              "      <th>8365</th>\n",
              "      <td>family</td>\n",
              "      <td>boy</td>\n",
              "      <td>girl</td>\n",
              "      <td>dad</td>\n",
              "      <td>mom</td>\n",
              "      <td>[dad, mom, Dad, mother, daughter, stepdad, dad...</td>\n",
              "    </tr>\n",
              "    <tr>\n",
              "      <th>8366</th>\n",
              "      <td>family</td>\n",
              "      <td>boy</td>\n",
              "      <td>girl</td>\n",
              "      <td>father</td>\n",
              "      <td>mother</td>\n",
              "      <td>[mother, father, daughter, husband, niece, eld...</td>\n",
              "    </tr>\n",
              "    <tr>\n",
              "      <th>8367</th>\n",
              "      <td>family</td>\n",
              "      <td>boy</td>\n",
              "      <td>girl</td>\n",
              "      <td>grandfather</td>\n",
              "      <td>grandmother</td>\n",
              "      <td>[grandfather, grandmother, granddaughter, aunt...</td>\n",
              "    </tr>\n",
              "  </tbody>\n",
              "</table>\n",
              "</div>"
            ],
            "text/plain": [
              "        type  ...                                                 v4\n",
              "8363  family  ...  [brother, sister, cousin, daughter, niece, son...\n",
              "8364  family  ...  [brothers, sisters, siblings, sons, sister, br...\n",
              "8365  family  ...  [dad, mom, Dad, mother, daughter, stepdad, dad...\n",
              "8366  family  ...  [mother, father, daughter, husband, niece, eld...\n",
              "8367  family  ...  [grandfather, grandmother, granddaughter, aunt...\n",
              "\n",
              "[5 rows x 6 columns]"
            ]
          },
          "metadata": {},
          "execution_count": 58
        }
      ]
    },
    {
      "cell_type": "code",
      "metadata": {
        "id": "CwabUdKwU2Di"
      },
      "source": [
        "# now count the number of correct results among the top k = [1,3,5,10] scores\n",
        "\n",
        "# I could use again the apply method and add 4 more columns with 1 if \n",
        "# it is in the top k and 0 otherwise, but it would too heavy\n",
        "# therefore I will go with iterrows\n",
        "\n",
        "import matplotlib.pyplot as plt\n",
        "import seaborn as sns\n",
        "\n",
        "sns.set_style('darkgrid')\n",
        "\n",
        "def evaluate_top_values(df):\n",
        "\n",
        "  top_1 = top_3 = top_5 = top_10 = 0\n",
        "\n",
        "  for index, row in df.iterrows():\n",
        "\n",
        "    target = row[\"target\"]\n",
        "    top10 = row[\"v4\"]\n",
        "\n",
        "    if target in top10:\n",
        "      top_10 += 1\n",
        "\n",
        "    if target in top10[:5]:\n",
        "      top_5 += 1\n",
        "\n",
        "    if target in top10[:3]:\n",
        "      top_3 += 1\n",
        "\n",
        "    if target == top10[0]:\n",
        "      top_1 += 1\n",
        "\n",
        "  acc_1 = top_1/len(df)\n",
        "  acc_3 = top_3/len(df)\n",
        "  acc_5 = top_5/len(df)\n",
        "  acc_10 = top_10/len(df)\n",
        "\n",
        "  plt.plot([1,3,5,10],[acc_1,acc_3,acc_5,acc_10])\n",
        "  plt.xlabel(\"Top K\")\n",
        "  plt.xticks([1,3,5,10])\n",
        "  plt.ylabel(\"Accuracy\")\n",
        "  "
      ],
      "execution_count": 38,
      "outputs": []
    },
    {
      "cell_type": "code",
      "metadata": {
        "colab": {
          "base_uri": "https://localhost:8080/",
          "height": 299
        },
        "id": "G6apV1rsfwmU",
        "outputId": "de4048b8-d048-400f-b096-fea7e01ab668"
      },
      "source": [
        "evaluate_top_values(family_analogies)"
      ],
      "execution_count": null,
      "outputs": [
        {
          "output_type": "execute_result",
          "data": {
            "text/plain": [
              "Text(0, 0.5, 'Accuracy')"
            ]
          },
          "metadata": {},
          "execution_count": 57
        },
        {
          "output_type": "display_data",
          "data": {
            "image/png": "[encoded data removed]",
            "text/plain": [
              "<Figure size 432x288 with 1 Axes>"
            ]
          },
          "metadata": {}
        }
      ]
    },
    {
      "cell_type": "markdown",
      "metadata": {
        "id": "noRDD9hWmyZO"
      },
      "source": [
        "### **Question 3:**\n",
        "\n",
        "Train a new FastText model using gensim with text8 corpus available in the python package ([reference](https://radimrehurek.com/gensim/downloader.html)). Compute the training time for the model and store it for subsequent steps. \n",
        "\n",
        "- Is there any significant difference in training time if compared with Word2Vec training?"
      ]
    },
    {
      "cell_type": "code",
      "metadata": {
        "colab": {
          "base_uri": "https://localhost:8080/"
        },
        "id": "p03kX8kml37U",
        "outputId": "f488628e-77c0-45d4-ae7f-0b4f31891b8d"
      },
      "source": [
        "import gensim.downloader as api\n",
        "from gensim.models import FastText\n",
        "\n",
        "dataset_text8 = api.load(\"text8\") \n",
        "\n",
        "# since the Object 'Dataset' has no \"len\" attributes,\n",
        "# I will manually calculate it\n",
        "len_dataset = 0\n",
        "for _ in dataset_text8:\n",
        "  len_dataset += 1\n",
        "\n",
        "\n",
        "model_fasttext = FastText(window=3, min_count=1)\n",
        "model_fasttext.build_vocab(dataset_text8)\n",
        "model_fasttext.train(dataset_text8, total_examples=len_dataset, epochs=1)\n",
        "\n",
        "# it is much much slower and there are much more stored informations"
      ],
      "execution_count": null,
      "outputs": [
        {
          "output_type": "execute_result",
          "data": {
            "text/plain": [
              "(12818778, 17005207)"
            ]
          },
          "metadata": {},
          "execution_count": 16
        }
      ]
    },
    {
      "cell_type": "markdown",
      "metadata": {
        "id": "UoAQbgL1oiEM"
      },
      "source": [
        "### **Question 4:**\n",
        "Score the FastText model by exploiting the same methodology presented in Q2. \n",
        "\n",
        "**Notes:**\n",
        "- Is there any issue similar to Word2Vec model?\n",
        "- Test the model trained on Wikipedia+News available in gensim."
      ]
    },
    {
      "cell_type": "code",
      "metadata": {
        "id": "eMngCK3xsmxN"
      },
      "source": [
        "%%capture\n",
        "! wget https://raw.githubusercontent.com/MorenoLaQuatra/DeepNLP/main/practices/P2/google_analogies.csv"
      ],
      "execution_count": 2,
      "outputs": []
    },
    {
      "cell_type": "code",
      "metadata": {
        "id": "0JvL6Tizkn6j"
      },
      "source": [
        "import pandas as pd\n",
        "import gensim.downloader\n",
        "\n",
        "fasttext_wiki_news_model = gensim.downloader.load('fasttext-wiki-news-subwords-300')\n",
        "\n",
        "# read CSV file\n",
        "data_analogies = pd.read_csv('google_analogies.csv').drop(columns=[\"Unnamed: 0\"])\n",
        "\n",
        "# filter only \"family\" type\n",
        "family_analogies = data_analogies[data_analogies[\"type\"] == \"family\"].copy()"
      ],
      "execution_count": 3,
      "outputs": []
    },
    {
      "cell_type": "code",
      "metadata": {
        "id": "zjdoLXHHsw4Z"
      },
      "source": [
        "def getV4_fasttext(row):\n",
        "  \n",
        "  # compute the algebraic operation -> v4 is a row vector\n",
        "  v4 = fasttext_wiki_news_model[row[\"word2\"]] - fasttext_wiki_news_model[row[\"word1\"]] + fasttext_wiki_news_model[row[\"word3\"]]\n",
        "\n",
        "  # get the 10 most similar word to v4\n",
        "  top10 = fasttext_wiki_news_model.most_similar(positive=[v4], topn=10)\n",
        "\n",
        "  # return only the list of top10 values (without the scores)\n",
        "  return [ x[0] for x in top10 ]\n",
        "\n",
        "family_analogies[\"v4\"] = family_analogies.apply(getV4_fasttext, axis=1)"
      ],
      "execution_count": 32,
      "outputs": []
    },
    {
      "cell_type": "code",
      "metadata": {
        "colab": {
          "base_uri": "https://localhost:8080/",
          "height": 279
        },
        "id": "ll4PIKax2Ggm",
        "outputId": "9852af4b-570b-498b-9446-3bd59d35e796"
      },
      "source": [
        "evaluate_top_values(family_analogies)"
      ],
      "execution_count": 39,
      "outputs": [
        {
          "output_type": "display_data",
          "data": {
            "image/png": "[encoded data removed]",
            "text/plain": [
              "<Figure size 432x288 with 1 Axes>"
            ]
          },
          "metadata": {}
        }
      ]
    },
    {
      "cell_type": "markdown",
      "metadata": {
        "id": "WRneIhkoxV_O"
      },
      "source": [
        "### **Question 5** (optional) \n",
        "Evaluate Word2Vec and FastText models  on the analogy task for the whole dataset (include all analogy types)."
      ]
    },
    {
      "cell_type": "code",
      "metadata": {
        "id": "64CHB3Umkq_1"
      },
      "source": [
        "# Your code here"
      ],
      "execution_count": null,
      "outputs": []
    },
    {
      "cell_type": "markdown",
      "metadata": {
        "id": "k-AuxU7YhU7D"
      },
      "source": [
        "## Sentence Embeddings\n",
        "\n",
        "Key takeaways from lessons and in-class practices:\n",
        "- Doc2Vec is an extension of the Word2Vec framework\n",
        "- It incorporate Document ID to obtain a more accurate representation of a document/paragraph\n",
        "- Training document vectors are pre-computed, however you can infer vectors for new documents\n",
        "- InferSent exploit a deep learning architecture to supervisedly learn sentence representations\n",
        "- InferSent vectors could exploit both Word2Vec or FastText as word embedding models."
      ]
    },
    {
      "cell_type": "markdown",
      "metadata": {
        "id": "60_q4G-xyooQ"
      },
      "source": [
        "### **Question 6:**\n",
        "\n",
        "Train a Doc2Vec model using gensim with text8 corpus. Compute the training time for the model and store it for subsequent steps."
      ]
    },
    {
      "cell_type": "code",
      "metadata": {
        "id": "9eIj2s1skr-s"
      },
      "source": [
        "from gensim.models.doc2vec import Doc2Vec, TaggedDocument\n",
        "from nltk.tokenize import word_tokenize\n",
        "from sklearn.metrics.pairwise import cosine_similarity\n",
        "import gensim.downloader as api\n",
        "\n",
        "\n",
        "dataset_text8 = api.load(\"text8\") \n",
        "\n",
        "tagged_text8 = [TaggedDocument(words=tokens, tags=[str(idx)]) for idx, tokens in enumerate(dataset_text8)]"
      ],
      "execution_count": null,
      "outputs": []
    },
    {
      "cell_type": "code",
      "metadata": {
        "id": "1UhtOgUeJzs3"
      },
      "source": [
        "max_epochs = 10\n",
        "emb_size = 200\n",
        "alpha = 0.01\n",
        "\n",
        "model = Doc2Vec(documents=tagged_text8, \n",
        "                vector_size=emb_size, \n",
        "                alpha=alpha,\n",
        "                min_alpha=0.0001,\n",
        "                min_count=1,\n",
        "                dm=1,\n",
        "                epochs=max_epochs)"
      ],
      "execution_count": null,
      "outputs": []
    },
    {
      "cell_type": "code",
      "metadata": {
        "id": "-lcDIbXdLB73"
      },
      "source": [
        "model.save(\"d2v.model\")"
      ],
      "execution_count": null,
      "outputs": []
    },
    {
      "cell_type": "markdown",
      "metadata": {
        "id": "gCqY7VFOwsK9"
      },
      "source": [
        "### **Question 7 (qualitative Evaluation)**\n",
        "Perform some qualitative experiments by computing the cosine similarities between sentences composed by yourself."
      ]
    },
    {
      "cell_type": "code",
      "metadata": {
        "id": "KrYt1-LckvSI"
      },
      "source": [
        "vec_1 = model.infer_vector([\"I\",\"love\",\"studying\",\"data\", \"science\"])\n",
        "vec_2 = model.infer_vector([\"I\", \"do\",\"not\",\"like\", \"studying\", \"arts\"])\n",
        "\n",
        "print(cosine_similarity(vec_1.reshape(1,-1),vec_2.reshape(1,-1)))"
      ],
      "execution_count": null,
      "outputs": []
    },
    {
      "cell_type": "markdown",
      "metadata": {
        "id": "OBqLp1LnTeME"
      },
      "source": [
        "### **Question 8** (Extrinsic Evaluation)\n",
        "\n",
        "Extrinsic evaluation measure performance of the word/sentence/paragraph embedding model for a downstream NLP task (e.g., Text Classification).\n",
        "\n",
        "We can use different configuration, training corpora or even different models to build a complete architecture for the task at hand.\n",
        "\n",
        "For this practice we use the text classification dataset available [here](https://github.com/MorenoLaQuatra/DeepNLP/blob/main/practices/P2/news_headline_classification.csv) - [source: Kaggle](https://www.kaggle.com/rmisra/news-category-dataset)\n",
        "\n",
        "**Note:** consider using just the first 10.000 headlines to reduce runtime during the lab.\n",
        "\n",
        "Compute the accuracy of 3 classification models each one built with one of the models introduced in this practice:\n",
        "- Word2Vec model pretrained on Google News corpus\n",
        "- FastText model pretrained on Wikipedia+News corpus\n",
        "- **[Optional]** Doc2Vec model pretrained on Text8 corpus\n",
        "- **[Optional]** InferSent pretrained model (v2) - [reference](https://github.com/facebookresearch/InferSent)\n",
        "\n",
        "The procedure to create a classification system is sketched below:\n",
        "1. Choose a machine learning (multi-class) classifier (e.g., MLP)\n",
        "2. Split the data collection in train/test (80%/20%)\n",
        "3. Use text vectors obtained by pretrained model as input of the classifier\n",
        "4. Measure the accuracy of the classification system\n",
        "5. Repeat step 3-4 using different embedding models \n",
        "\n",
        "\n",
        "**Note:** You need to choose an aggregation function (e.g., average) to obtain sentence embeddings from word vectors.\n",
        "\n",
        "Which model has better performance? Report the performance of each variant of the classification system."
      ]
    },
    {
      "cell_type": "code",
      "metadata": {
        "id": "qp2k7npVeoTB"
      },
      "source": [
        "!wget https://raw.githubusercontent.com/MorenoLaQuatra/DeepNLP/main/practices/P2/news_headline_classification.csv"
      ],
      "execution_count": null,
      "outputs": []
    },
    {
      "cell_type": "code",
      "metadata": {
        "id": "uKQZIX6ckzcA"
      },
      "source": [
        ""
      ],
      "execution_count": null,
      "outputs": []
    },
    {
      "cell_type": "markdown",
      "metadata": {
        "id": "9VBbEBO6xmEL"
      },
      "source": [
        "**Word2Vec + Average aggregation function**"
      ]
    },
    {
      "cell_type": "code",
      "metadata": {
        "id": "mmjcUbRCk2Ll"
      },
      "source": [
        "# Your code here"
      ],
      "execution_count": null,
      "outputs": []
    },
    {
      "cell_type": "markdown",
      "metadata": {
        "id": "kTLSmUJXxeId"
      },
      "source": [
        "**FastText + Average aggregation function**"
      ]
    },
    {
      "cell_type": "code",
      "metadata": {
        "id": "VtMLnlTyk4J7"
      },
      "source": [
        "# Your code here"
      ],
      "execution_count": null,
      "outputs": []
    },
    {
      "cell_type": "markdown",
      "metadata": {
        "id": "mBjSrAx9xrON"
      },
      "source": [
        "**Doc2Vec (Text8)**"
      ]
    },
    {
      "cell_type": "code",
      "metadata": {
        "id": "rbcc4qWmk9Jt"
      },
      "source": [
        "# Your code here"
      ],
      "execution_count": null,
      "outputs": []
    },
    {
      "cell_type": "markdown",
      "metadata": {
        "id": "t7DkgKMcxrIy"
      },
      "source": [
        "**InferSent**"
      ]
    },
    {
      "cell_type": "code",
      "metadata": {
        "id": "JCIQ1EEUYEwk"
      },
      "source": [
        "%%capture\n",
        "# InferSent download required files\n",
        "\n",
        "! mkdir fastText\n",
        "! curl -Lo fastText/crawl-300d-2M.vec.zip https://dl.fbaipublicfiles.com/fasttext/vectors-english/crawl-300d-2M.vec.zip\n",
        "! unzip fastText/crawl-300d-2M.vec.zip -d fastText/\n",
        "! mkdir encoder\n",
        "! curl -Lo encoder/infersent2.pkl https://dl.fbaipublicfiles.com/infersent/infersent2.pkl\n",
        "! git clone https://github.com/facebookresearch/InferSent.git"
      ],
      "execution_count": null,
      "outputs": []
    },
    {
      "cell_type": "code",
      "metadata": {
        "id": "QmtxnnC0Y9Cb"
      },
      "source": [
        "from InferSent.models import InferSent\n",
        "import torch\n",
        "V = 2\n",
        "MODEL_PATH = 'encoder/infersent%s.pkl' % V\n",
        "params_model = {'bsize': 64, 'word_emb_dim': 300, 'enc_lstm_dim': 2048,\n",
        "                'pool_type': 'max', 'dpout_model': 0.0, 'version': V}\n",
        "infersent = InferSent(params_model)\n",
        "infersent.load_state_dict(torch.load(MODEL_PATH))\n",
        "\n",
        "W2V_PATH = 'fastText/crawl-300d-2M.vec'\n",
        "infersent.set_w2v_path(W2V_PATH)"
      ],
      "execution_count": null,
      "outputs": []
    },
    {
      "cell_type": "code",
      "metadata": {
        "id": "hfKMM5E9lDeY"
      },
      "source": [
        "# Your code here"
      ],
      "execution_count": null,
      "outputs": []
    }
  ]
}